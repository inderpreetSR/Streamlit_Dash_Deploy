{
 "cells": [
  {
   "cell_type": "markdown",
   "id": "ee2bb478",
   "metadata": {},
   "source": [
    "# Exploratory Data Analysis (EDA) of test.csv with Plotly\n",
    "\n",
    "This notebook performs a comprehensive EDA of the raw financial/loan data in `Data/raw/test.csv` using Plotly for all visualizations. At the end, all generated graphs are saved in a single HTML report with captions."
   ]
  },
  {
   "cell_type": "code",
   "execution_count": 3,
   "id": "f279c439",
   "metadata": {},
   "outputs": [
    {
     "name": "stdout",
     "output_type": "stream",
     "text": [
      "Current working directory:\Streamlit_Dash_Deploy\\notebooks\n",
      "Loading data from: \\Streamlit_Dash_Deploy\\Data\\raw\\test.csv\n"
     ]
    },
    {
     "name": "stderr",
     "output_type": "stream",
     "text": [
      "C:\\Users\\inder\\AppData\\Local\\Temp\\ipykernel_29104\\394779567.py:34: DtypeWarning:\n",
      "\n",
      "Columns (15,42,43,53,54,81,96,101,109,117,136,187,191,197,203,217,221,226,239,241,242,243,244,246,248,249,253,254,256,260,271,272,274,277,278,279,280,281,282,290,293,296,302,303,307) have mixed types. Specify dtype option on import or set low_memory=False.\n",
      "\n"
     ]
    },
    {
     "data": {
      "text/html": [
       "<div>\n",
       "<style scoped>\n",
       "    .dataframe tbody tr th:only-of-type {\n",
       "        vertical-align: middle;\n",
       "    }\n",
       "\n",
       "    .dataframe tbody tr th {\n",
       "        vertical-align: top;\n",
       "    }\n",
       "\n",
       "    .dataframe thead th {\n",
       "        text-align: right;\n",
       "    }\n",
       "</style>\n",
       "<table border=\"1\" class=\"dataframe\">\n",
       "  <thead>\n",
       "    <tr style=\"text-align: right;\">\n",
       "      <th></th>\n",
       "      <th>Unnamed: 0.1</th>\n",
       "      <th>LOAN_NUMBER</th>\n",
       "      <th>FIRST_DISBURSAL_DATE</th>\n",
       "      <th>MOB</th>\n",
       "      <th>MONTH_END_POS</th>\n",
       "      <th>CURRENT_POS</th>\n",
       "      <th>NEXT_DUE_DATE</th>\n",
       "      <th>OVERDUE_PRINCIPLE</th>\n",
       "      <th>OVERDUE_INTEREST</th>\n",
       "      <th>NPA_STATUS</th>\n",
       "      <th>...</th>\n",
       "      <th>DA_LAN.1</th>\n",
       "      <th>CLSS_FLAG.1</th>\n",
       "      <th>LANDMARK</th>\n",
       "      <th>TOWN</th>\n",
       "      <th>SZTAN</th>\n",
       "      <th>SZCIN</th>\n",
       "      <th>DIN</th>\n",
       "      <th>SZ_GSTIN</th>\n",
       "      <th>APPLICATION_NUMBER_y</th>\n",
       "      <th>application_no_prg</th>\n",
       "    </tr>\n",
       "  </thead>\n",
       "  <tbody>\n",
       "    <tr>\n",
       "      <th>0</th>\n",
       "      <td>0</td>\n",
       "      <td>51200001057616</td>\n",
       "      <td>2025-03-29 00:00:00</td>\n",
       "      <td>0.0</td>\n",
       "      <td>NaN</td>\n",
       "      <td>2088164.0</td>\n",
       "      <td>2025-05-05 00:00:00</td>\n",
       "      <td>NaN</td>\n",
       "      <td>NaN</td>\n",
       "      <td>N</td>\n",
       "      <td>...</td>\n",
       "      <td>NaN</td>\n",
       "      <td>NaN</td>\n",
       "      <td>NaN</td>\n",
       "      <td>NaN</td>\n",
       "      <td>NaN</td>\n",
       "      <td>NaN</td>\n",
       "      <td>NaN</td>\n",
       "      <td>NaN</td>\n",
       "      <td>NaN</td>\n",
       "      <td>NaN</td>\n",
       "    </tr>\n",
       "    <tr>\n",
       "      <th>1</th>\n",
       "      <td>1</td>\n",
       "      <td>50300000938312</td>\n",
       "      <td>2022-03-12 00:00:00</td>\n",
       "      <td>36.0</td>\n",
       "      <td>513328.0</td>\n",
       "      <td>510139.0</td>\n",
       "      <td>2025-04-05 00:00:00</td>\n",
       "      <td>0.0</td>\n",
       "      <td>0.0</td>\n",
       "      <td>N</td>\n",
       "      <td>...</td>\n",
       "      <td>NaN</td>\n",
       "      <td>NaN</td>\n",
       "      <td>NaN</td>\n",
       "      <td>NaN</td>\n",
       "      <td>NaN</td>\n",
       "      <td>NaN</td>\n",
       "      <td>NaN</td>\n",
       "      <td>NaN</td>\n",
       "      <td>NaN</td>\n",
       "      <td>NaN</td>\n",
       "    </tr>\n",
       "    <tr>\n",
       "      <th>2</th>\n",
       "      <td>2</td>\n",
       "      <td>51200000859453</td>\n",
       "      <td>2023-06-03 00:00:00</td>\n",
       "      <td>21.0</td>\n",
       "      <td>0.0</td>\n",
       "      <td>0.0</td>\n",
       "      <td>2024-04-05 00:00:00</td>\n",
       "      <td>0.0</td>\n",
       "      <td>0.0</td>\n",
       "      <td>N</td>\n",
       "      <td>...</td>\n",
       "      <td>NaN</td>\n",
       "      <td>NaN</td>\n",
       "      <td>NaN</td>\n",
       "      <td>NaN</td>\n",
       "      <td>NaN</td>\n",
       "      <td>NaN</td>\n",
       "      <td>NaN</td>\n",
       "      <td>NaN</td>\n",
       "      <td>NaN</td>\n",
       "      <td>NaN</td>\n",
       "    </tr>\n",
       "    <tr>\n",
       "      <th>3</th>\n",
       "      <td>3</td>\n",
       "      <td>51200001022650</td>\n",
       "      <td>2024-12-31 00:00:00</td>\n",
       "      <td>3.0</td>\n",
       "      <td>1552729.0</td>\n",
       "      <td>1547809.0</td>\n",
       "      <td>2025-04-05 00:00:00</td>\n",
       "      <td>0.0</td>\n",
       "      <td>0.0</td>\n",
       "      <td>N</td>\n",
       "      <td>...</td>\n",
       "      <td>NaN</td>\n",
       "      <td>NaN</td>\n",
       "      <td>NaN</td>\n",
       "      <td>NaN</td>\n",
       "      <td>NaN</td>\n",
       "      <td>NaN</td>\n",
       "      <td>NaN</td>\n",
       "      <td>NaN</td>\n",
       "      <td>NaN</td>\n",
       "      <td>NaN</td>\n",
       "    </tr>\n",
       "    <tr>\n",
       "      <th>4</th>\n",
       "      <td>4</td>\n",
       "      <td>50400000966414</td>\n",
       "      <td>2024-06-12 00:00:00</td>\n",
       "      <td>9.0</td>\n",
       "      <td>742864.0</td>\n",
       "      <td>739515.0</td>\n",
       "      <td>2025-04-05 00:00:00</td>\n",
       "      <td>0.0</td>\n",
       "      <td>0.0</td>\n",
       "      <td>N</td>\n",
       "      <td>...</td>\n",
       "      <td>NaN</td>\n",
       "      <td>NaN</td>\n",
       "      <td>NaN</td>\n",
       "      <td>NaN</td>\n",
       "      <td>NaN</td>\n",
       "      <td>NaN</td>\n",
       "      <td>NaN</td>\n",
       "      <td>NaN</td>\n",
       "      <td>NaN</td>\n",
       "      <td>NaN</td>\n",
       "    </tr>\n",
       "  </tbody>\n",
       "</table>\n",
       "<p>5 rows × 310 columns</p>\n",
       "</div>"
      ],
      "text/plain": [
       "   Unnamed: 0.1     LOAN_NUMBER FIRST_DISBURSAL_DATE   MOB  MONTH_END_POS  \\\n",
       "0             0  51200001057616  2025-03-29 00:00:00   0.0            NaN   \n",
       "1             1  50300000938312  2022-03-12 00:00:00  36.0       513328.0   \n",
       "2             2  51200000859453  2023-06-03 00:00:00  21.0            0.0   \n",
       "3             3  51200001022650  2024-12-31 00:00:00   3.0      1552729.0   \n",
       "4             4  50400000966414  2024-06-12 00:00:00   9.0       742864.0   \n",
       "\n",
       "   CURRENT_POS        NEXT_DUE_DATE  OVERDUE_PRINCIPLE  OVERDUE_INTEREST  \\\n",
       "0    2088164.0  2025-05-05 00:00:00                NaN               NaN   \n",
       "1     510139.0  2025-04-05 00:00:00                0.0               0.0   \n",
       "2          0.0  2024-04-05 00:00:00                0.0               0.0   \n",
       "3    1547809.0  2025-04-05 00:00:00                0.0               0.0   \n",
       "4     739515.0  2025-04-05 00:00:00                0.0               0.0   \n",
       "\n",
       "  NPA_STATUS  ...  DA_LAN.1  CLSS_FLAG.1  LANDMARK TOWN  SZTAN SZCIN DIN  \\\n",
       "0          N  ...       NaN          NaN       NaN  NaN    NaN   NaN NaN   \n",
       "1          N  ...       NaN          NaN       NaN  NaN    NaN   NaN NaN   \n",
       "2          N  ...       NaN          NaN       NaN  NaN    NaN   NaN NaN   \n",
       "3          N  ...       NaN          NaN       NaN  NaN    NaN   NaN NaN   \n",
       "4          N  ...       NaN          NaN       NaN  NaN    NaN   NaN NaN   \n",
       "\n",
       "  SZ_GSTIN APPLICATION_NUMBER_y  application_no_prg  \n",
       "0      NaN                  NaN                 NaN  \n",
       "1      NaN                  NaN                 NaN  \n",
       "2      NaN                  NaN                 NaN  \n",
       "3      NaN                  NaN                 NaN  \n",
       "4      NaN                  NaN                 NaN  \n",
       "\n",
       "[5 rows x 310 columns]"
      ]
     },
     "metadata": {},
     "output_type": "display_data"
    }
   ],
   "source": [
    "import pandas as pd\n",
    "import numpy as np\n",
    "import plotly.express as px\n",
    "import plotly.graph_objects as go\n",
    "from plotly.subplots import make_subplots\n",
    "import os\n",
    "from pathlib import Path\n",
    "from IPython.display import display, HTML\n",
    "\n",
    "# For HTML report\n",
    "from plotly.offline import plot\n",
    "\n",
    "# Set file path\n",
    "print('Current working directory:', os.getcwd())\n",
    "\n",
    "# Try both possible paths\n",
    "possible_paths = [\n",
    "    Path('Data/raw/test.csv'),\n",
    "    Path('../Data/raw/test.csv')\n",
    "]\n",
    "\n",
    "data_path = None\n",
    "for path in possible_paths:\n",
    "    if path.exists():\n",
    "        data_path = path\n",
    "        break\n",
    "\n",
    "if data_path is None:\n",
    "    print(\"File not found in either expected location:\")\n",
    "    for path in possible_paths:\n",
    "        print(f\"  - {path.resolve()}\")\n",
    "else:\n",
    "    print(f\"Loading data from: {data_path.resolve()}\")\n",
    "    df = pd.read_csv(data_path)\n",
    "    display(df.head())"
   ]
  },
  {
   "cell_type": "markdown",
   "id": "c853a167",
   "metadata": {},
   "source": [
    "## 1. Data Overview & Summary"
   ]
  },
  {
   "cell_type": "code",
   "execution_count": 4,
   "id": "2f1b2e31",
   "metadata": {},
   "outputs": [
    {
     "name": "stdout",
     "output_type": "stream",
     "text": [
      "Shape: (38336, 310)\n",
      "<class 'pandas.core.frame.DataFrame'>\n",
      "RangeIndex: 38336 entries, 0 to 38335\n",
      "Columns: 310 entries, Unnamed: 0.1 to application_no_prg\n",
      "dtypes: float64(123), int64(6), object(181)\n",
      "memory usage: 90.7+ MB\n"
     ]
    },
    {
     "data": {
      "text/plain": [
       "None"
      ]
     },
     "metadata": {},
     "output_type": "display_data"
    },
    {
     "data": {
      "text/html": [
       "<div>\n",
       "<style scoped>\n",
       "    .dataframe tbody tr th:only-of-type {\n",
       "        vertical-align: middle;\n",
       "    }\n",
       "\n",
       "    .dataframe tbody tr th {\n",
       "        vertical-align: top;\n",
       "    }\n",
       "\n",
       "    .dataframe thead th {\n",
       "        text-align: right;\n",
       "    }\n",
       "</style>\n",
       "<table border=\"1\" class=\"dataframe\">\n",
       "  <thead>\n",
       "    <tr style=\"text-align: right;\">\n",
       "      <th></th>\n",
       "      <th>count</th>\n",
       "      <th>unique</th>\n",
       "      <th>top</th>\n",
       "      <th>freq</th>\n",
       "      <th>mean</th>\n",
       "      <th>std</th>\n",
       "      <th>min</th>\n",
       "      <th>25%</th>\n",
       "      <th>50%</th>\n",
       "      <th>75%</th>\n",
       "      <th>max</th>\n",
       "    </tr>\n",
       "  </thead>\n",
       "  <tbody>\n",
       "    <tr>\n",
       "      <th>Unnamed: 0.1</th>\n",
       "      <td>38336.0</td>\n",
       "      <td>NaN</td>\n",
       "      <td>NaN</td>\n",
       "      <td>NaN</td>\n",
       "      <td>19200.545023</td>\n",
       "      <td>11090.069845</td>\n",
       "      <td>0.0</td>\n",
       "      <td>9592.75</td>\n",
       "      <td>19201.5</td>\n",
       "      <td>28805.25</td>\n",
       "      <td>38406.0</td>\n",
       "    </tr>\n",
       "    <tr>\n",
       "      <th>LOAN_NUMBER</th>\n",
       "      <td>38336.0</td>\n",
       "      <td>NaN</td>\n",
       "      <td>NaN</td>\n",
       "      <td>NaN</td>\n",
       "      <td>52693769308151.65625</td>\n",
       "      <td>6630033149059.207031</td>\n",
       "      <td>50100000509340.0</td>\n",
       "      <td>50400000519991.25</td>\n",
       "      <td>51200000689223.0</td>\n",
       "      <td>51200001036217.25</td>\n",
       "      <td>81300005422805.0</td>\n",
       "    </tr>\n",
       "    <tr>\n",
       "      <th>FIRST_DISBURSAL_DATE</th>\n",
       "      <td>38336</td>\n",
       "      <td>1430</td>\n",
       "      <td>2022-03-31 00:00:00</td>\n",
       "      <td>736</td>\n",
       "      <td>NaN</td>\n",
       "      <td>NaN</td>\n",
       "      <td>NaN</td>\n",
       "      <td>NaN</td>\n",
       "      <td>NaN</td>\n",
       "      <td>NaN</td>\n",
       "      <td>NaN</td>\n",
       "    </tr>\n",
       "    <tr>\n",
       "      <th>MOB</th>\n",
       "      <td>36294.0</td>\n",
       "      <td>NaN</td>\n",
       "      <td>NaN</td>\n",
       "      <td>NaN</td>\n",
       "      <td>18.3721</td>\n",
       "      <td>11.042544</td>\n",
       "      <td>0.0</td>\n",
       "      <td>9.0</td>\n",
       "      <td>18.0</td>\n",
       "      <td>27.0</td>\n",
       "      <td>38.0</td>\n",
       "    </tr>\n",
       "    <tr>\n",
       "      <th>MONTH_END_POS</th>\n",
       "      <td>36857.0</td>\n",
       "      <td>NaN</td>\n",
       "      <td>NaN</td>\n",
       "      <td>NaN</td>\n",
       "      <td>1166671.636466</td>\n",
       "      <td>1593359.141668</td>\n",
       "      <td>0.0</td>\n",
       "      <td>0.0</td>\n",
       "      <td>769699.0</td>\n",
       "      <td>1525704.0</td>\n",
       "      <td>25116405.0</td>\n",
       "    </tr>\n",
       "    <tr>\n",
       "      <th>...</th>\n",
       "      <td>...</td>\n",
       "      <td>...</td>\n",
       "      <td>...</td>\n",
       "      <td>...</td>\n",
       "      <td>...</td>\n",
       "      <td>...</td>\n",
       "      <td>...</td>\n",
       "      <td>...</td>\n",
       "      <td>...</td>\n",
       "      <td>...</td>\n",
       "      <td>...</td>\n",
       "    </tr>\n",
       "    <tr>\n",
       "      <th>SZCIN</th>\n",
       "      <td>0.0</td>\n",
       "      <td>NaN</td>\n",
       "      <td>NaN</td>\n",
       "      <td>NaN</td>\n",
       "      <td>NaN</td>\n",
       "      <td>NaN</td>\n",
       "      <td>NaN</td>\n",
       "      <td>NaN</td>\n",
       "      <td>NaN</td>\n",
       "      <td>NaN</td>\n",
       "      <td>NaN</td>\n",
       "    </tr>\n",
       "    <tr>\n",
       "      <th>DIN</th>\n",
       "      <td>0.0</td>\n",
       "      <td>NaN</td>\n",
       "      <td>NaN</td>\n",
       "      <td>NaN</td>\n",
       "      <td>NaN</td>\n",
       "      <td>NaN</td>\n",
       "      <td>NaN</td>\n",
       "      <td>NaN</td>\n",
       "      <td>NaN</td>\n",
       "      <td>NaN</td>\n",
       "      <td>NaN</td>\n",
       "    </tr>\n",
       "    <tr>\n",
       "      <th>SZ_GSTIN</th>\n",
       "      <td>2</td>\n",
       "      <td>1</td>\n",
       "      <td>27ACAPS3692N1ZY</td>\n",
       "      <td>2</td>\n",
       "      <td>NaN</td>\n",
       "      <td>NaN</td>\n",
       "      <td>NaN</td>\n",
       "      <td>NaN</td>\n",
       "      <td>NaN</td>\n",
       "      <td>NaN</td>\n",
       "      <td>NaN</td>\n",
       "    </tr>\n",
       "    <tr>\n",
       "      <th>APPLICATION_NUMBER_y</th>\n",
       "      <td>0.0</td>\n",
       "      <td>NaN</td>\n",
       "      <td>NaN</td>\n",
       "      <td>NaN</td>\n",
       "      <td>NaN</td>\n",
       "      <td>NaN</td>\n",
       "      <td>NaN</td>\n",
       "      <td>NaN</td>\n",
       "      <td>NaN</td>\n",
       "      <td>NaN</td>\n",
       "      <td>NaN</td>\n",
       "    </tr>\n",
       "    <tr>\n",
       "      <th>application_no_prg</th>\n",
       "      <td>0.0</td>\n",
       "      <td>NaN</td>\n",
       "      <td>NaN</td>\n",
       "      <td>NaN</td>\n",
       "      <td>NaN</td>\n",
       "      <td>NaN</td>\n",
       "      <td>NaN</td>\n",
       "      <td>NaN</td>\n",
       "      <td>NaN</td>\n",
       "      <td>NaN</td>\n",
       "      <td>NaN</td>\n",
       "    </tr>\n",
       "  </tbody>\n",
       "</table>\n",
       "<p>310 rows × 11 columns</p>\n",
       "</div>"
      ],
      "text/plain": [
       "                        count unique                  top freq  \\\n",
       "Unnamed: 0.1          38336.0    NaN                  NaN  NaN   \n",
       "LOAN_NUMBER           38336.0    NaN                  NaN  NaN   \n",
       "FIRST_DISBURSAL_DATE    38336   1430  2022-03-31 00:00:00  736   \n",
       "MOB                   36294.0    NaN                  NaN  NaN   \n",
       "MONTH_END_POS         36857.0    NaN                  NaN  NaN   \n",
       "...                       ...    ...                  ...  ...   \n",
       "SZCIN                     0.0    NaN                  NaN  NaN   \n",
       "DIN                       0.0    NaN                  NaN  NaN   \n",
       "SZ_GSTIN                    2      1      27ACAPS3692N1ZY    2   \n",
       "APPLICATION_NUMBER_y      0.0    NaN                  NaN  NaN   \n",
       "application_no_prg        0.0    NaN                  NaN  NaN   \n",
       "\n",
       "                                      mean                   std  \\\n",
       "Unnamed: 0.1                  19200.545023          11090.069845   \n",
       "LOAN_NUMBER           52693769308151.65625  6630033149059.207031   \n",
       "FIRST_DISBURSAL_DATE                   NaN                   NaN   \n",
       "MOB                                18.3721             11.042544   \n",
       "MONTH_END_POS               1166671.636466        1593359.141668   \n",
       "...                                    ...                   ...   \n",
       "SZCIN                                  NaN                   NaN   \n",
       "DIN                                    NaN                   NaN   \n",
       "SZ_GSTIN                               NaN                   NaN   \n",
       "APPLICATION_NUMBER_y                   NaN                   NaN   \n",
       "application_no_prg                     NaN                   NaN   \n",
       "\n",
       "                                   min                25%               50%  \\\n",
       "Unnamed: 0.1                       0.0            9592.75           19201.5   \n",
       "LOAN_NUMBER           50100000509340.0  50400000519991.25  51200000689223.0   \n",
       "FIRST_DISBURSAL_DATE               NaN                NaN               NaN   \n",
       "MOB                                0.0                9.0              18.0   \n",
       "MONTH_END_POS                      0.0                0.0          769699.0   \n",
       "...                                ...                ...               ...   \n",
       "SZCIN                              NaN                NaN               NaN   \n",
       "DIN                                NaN                NaN               NaN   \n",
       "SZ_GSTIN                           NaN                NaN               NaN   \n",
       "APPLICATION_NUMBER_y               NaN                NaN               NaN   \n",
       "application_no_prg                 NaN                NaN               NaN   \n",
       "\n",
       "                                    75%               max  \n",
       "Unnamed: 0.1                   28805.25           38406.0  \n",
       "LOAN_NUMBER           51200001036217.25  81300005422805.0  \n",
       "FIRST_DISBURSAL_DATE                NaN               NaN  \n",
       "MOB                                27.0              38.0  \n",
       "MONTH_END_POS                 1525704.0        25116405.0  \n",
       "...                                 ...               ...  \n",
       "SZCIN                               NaN               NaN  \n",
       "DIN                                 NaN               NaN  \n",
       "SZ_GSTIN                            NaN               NaN  \n",
       "APPLICATION_NUMBER_y                NaN               NaN  \n",
       "application_no_prg                  NaN               NaN  \n",
       "\n",
       "[310 rows x 11 columns]"
      ]
     },
     "metadata": {},
     "output_type": "display_data"
    }
   ],
   "source": [
    "print('Shape:', df.shape)\n",
    "display(df.info())\n",
    "display(df.describe(include='all').T)"
   ]
  },
  {
   "cell_type": "markdown",
   "id": "45f768e8",
   "metadata": {},
   "source": [
    "## 2. Missing Values Analysis"
   ]
  },
  {
   "cell_type": "code",
   "execution_count": 5,
   "id": "58c59a62",
   "metadata": {},
   "outputs": [
    {
     "data": {
      "application/vnd.plotly.v1+json": {
       "config": {
        "plotlyServerURL": "https://plot.ly"
       },
       "data": [
        {
         "hovertemplate": "variable=0<br>value=%{x}<br>index=%{y}<extra></extra>",
         "legendgroup": "0",
         "marker": {
          "color": "#636efa",
          "pattern": {
           "shape": ""
          }
         },
         "name": "0",
         "orientation": "h",
         "showlegend": true,
         "textposition": "auto",
         "type": "bar",
         "x": {
          "bdata": "wJUAAMCVAADAlQAAwJUAAMCVAADAlQAAwJUAAMCVAADAlQAAwJUAAMCVAADAlQAAwJUAAMCVAADAlQAAwJUAAMCVAADAlQAAwJUAAMCVAADAlQAAwJUAAMCVAADAlQAAwJUAAMCVAADAlQAAwJUAAMCVAADAlQAAwJUAAMCVAADAlQAAwJUAAMCVAADAlQAAwJUAAMCVAADAlQAAwJUAAMCVAAC+lQAAvpUAAL2VAAC9lQAAu5UAALuVAAC7lQAAu5UAALuVAAC7lQAAu5UAALuVAAC7lQAAu5UAALuVAAC7lQAAu5UAALuVAAC7lQAAu5UAALuVAAC7lQAAu5UAALuVAAC7lQAAu5UAALuVAAC7lQAAu5UAALuVAAC7lQAAu5UAALuVAAC7lQAAu5UAALuVAAC7lQAAu5UAALuVAAC7lQAAu5UAALuVAAC7lQAAu5UAALuVAAC7lQAAu5UAALuVAAC7lQAAtJUAAIuVAACHlQAAg5UAADGVAAAxlQAAMZUAAP2UAAB5lAAA+Y4AAPSOAACyjgAAdY4AAMiNAADGjQAAxo0AAJSNAADRjAAAnIoAAJuHAACQhwAAiYcAANKGAADShgAAMYMAADGDAAA5gQAAzoAAALF/AADvfQAAsX0AAJh9AAB/eQAAiXYAAH12AADOdAAAkXQAACVwAADRbwAAtG8AAFRuAABGaQAAIGkAABppAADwZgAA8GYAAC1cAADqTAAAHkoAANRIAACiMwAAVTMAABkzAAAQLgAAlywAAAMsAAAgJgAARh8AADcfAADhHgAAHBIAAGARAADfDwAAvg0AACoNAABzDAAA2QsAANkLAADZCwAA2QsAAEILAAD8CgAA8QkAAFoJAAAYCQAAXQgAAF0IAABTCAAAOggAADMIAAAOCAAA+gcAAPoHAACtBwAAFgcAAA0HAADyBgAA4gYAAJUGAACVBgAARwYAAMcFAADHBQAAxwUAAM4EAAD7AwAA+wMAALYDAAC2AwAAcAMAAFEDAAAiAwAAFAMAAPsCAACrAgAAoAIAAJMCAABlAgAAZQIAAEsCAABLAgAABwIAAMMBAACIAQAAdQEAAHMBAABqAQAAagEAAGQBAABkAQAAYAEAAD4BAAA7AQAAOAEAADQBAAA0AQAANAEAADQBAAAzAQAAMwEAANoAAAB+AAAAWwAAAFsAAAA+AAAAPgAAADsAAAAuAAAALAAAACoAAAApAAAAJAAAACAAAAAfAAAAHwAAAB0AAAAdAAAAHQAAABIAAAAQAAAADwAAAA8AAAAPAAAADwAAAA8AAAAPAAAADQAAAA0AAAANAAAABAAAAAQAAAACAAAAAgAAAAIAAAABAAAAAQAAAA==",
          "dtype": "i4"
         },
         "xaxis": "x",
         "y": [
          "application_no_prg",
          "APPLICATION_NUMBER_y",
          "DA_LAN",
          "CLSS_FLAG",
          "CHEQUE_HANDOVER_STATUS",
          "ENTITY_TYPE",
          "SZTAN",
          "CLSS_FLAG.1",
          "CONSO_ERROR_FLAG.1",
          "DA_LAN.1",
          "CONSO_ERROR_FLAG",
          "SAATHI_PRODUCT_DESC",
          "FINAL_ELIGIBILTY_FOR_SUMMARY_MAKING_",
          "RESTRUCTURED_LOAN_NUMBER",
          "DA_BAJAJ_FLAG",
          "NABARD_IND",
          "SIDBI_LAN",
          "UNIVERSE_MAPPING_REST_SAHA",
          "NACH_AMOUNT",
          "NACH_STATUS",
          "PROPERTY_CITY_TYPE",
          "SZ_CERSAI_ASSET_ID",
          "SZCIN",
          "ORG_I_NO_OF_EMPLOYEES",
          "CIBIL_MSME_RANK_FOR_NON_INDIVIDUALS",
          "ABCC",
          "VILLAGE_CODE",
          "BUSINESSCOMMENCEMENTDATE",
          "ORG_I_NO_OF_CON_EMPLOYEES",
          "FULLY_DISBURSED_IND",
          "COBORROWER_NAME",
          "CONTACT_PERSON",
          "ORG_NAME",
          "NO_OF_ISSUED_CHEQUES_RETURNED",
          "PROPERTY_PLAN_COPY",
          "LEGAL_NAME",
          "VALUER_STATUS",
          "LEGAL_STATUS",
          "UDYAM_STATUS",
          "DIN",
          "ORG_I_NO_OF_PERM_EMPLOYEES",
          "SZ_GSTIN",
          "DT_INCORPORATION_DATE",
          "completedon",
          "LANDMARK",
          "MAP_APPROVED_Y/N",
          "PROPOSED_AREA_VALUATION",
          "EXISTING_AREA_VALUATION",
          "job_run_id",
          "year",
          "month",
          "day",
          "sz_lan_no",
          "LAND_VALUE",
          "name_of_authority",
          "age_of_property",
          "residual_age",
          "land_valuation",
          "report_no",
          "app_status",
          "transaction_type",
          "initiation_date",
          "load_id",
          "load_timestamp",
          "total_market_value",
          "lob",
          "valuation-month",
          "source_system",
          "distance_from_home_branch",
          "valuer_code",
          "total_market_value__a_+_b_+_c_+_d",
          "_structure_type",
          "occupancy_status",
          "b-_existing_area_valuation",
          "c-prposed_area_valuation",
          "a-land_valuation",
          "is_approved_map/permissble_available?",
          "pin",
          "valuation-year",
          "valuation",
          "longitude",
          "latitude",
          "land_rate",
          "valuation-day",
          "area/sqft",
          "asset_no",
          "application_no",
          "address_as_per_site_visit",
          "VALUER_NAME",
          "percentage_of_completion",
          "ADDRESS_LINE_3",
          "SZ_ID1",
          "SZ_ID3",
          "SZ_ADDRESS_3",
          "IND_I_NO_OF_PERM_EMPLOYEES",
          "IND_I_NO_OF_CON_EMPLOYEES",
          "IND_I_NO_OF_EMPLOYEES",
          "EDA",
          "SZ_VOTER_ID",
          "TOWN",
          "AUTHORITY",
          "SZ_BRANCH_CODE_3",
          "SZ_IFSC_3",
          "SZ_UCIC",
          "APPLICATION_NUMBER_x",
          "Unnamed: 0",
          "SZ_RELATION_TO_MAIN_APPLICANT",
          "C_USE_FOR_REPAYMENT_YN_3",
          "DT_ACCOUNT_SINCE_3",
          "SZ_ACC_HOLDER_NAME_3",
          "SZ_BRANCH_NAME_3",
          "SZ_ACCOUNT_TYPE_3",
          "SZ_ACCOUNT_NO_3",
          "SZ_BANK_NAME_3",
          "COLENDING_SCHEME",
          "COLENDING_FLAG",
          "SZ_EXIST_APLN_NO",
          "SZ_BRANCH_CODE_2",
          "COLENDING_DATE",
          "NHB_REFINANCE_FLAG",
          "REFINANCE_SCHEME",
          "SZ_IFSC_2",
          "I_NOORGYEARS",
          "RESIDING_AT_THE_SAME_ADDRESS_IN_YEARS",
          "PROPERTY_ADDRESS_3",
          "C_USE_FOR_REPAYMENT_YN_2",
          "I_NO_OF_DEPENDENTS",
          "DT_ACCOUNT_SINCE_2",
          "PRAGATI_MAPPING",
          "SZ_IFSC_1",
          "SZ_SPOUSE_NAME",
          "SZ_ACC_HOLDER_NAME_2",
          "SZ_BRANCH_NAME_2",
          "SZ_ACCOUNT_TYPE_2",
          "SZ_BANK_NAME_2",
          "SZ_ACCOUNT_NO_2",
          "MIDDLE_NAME",
          "EMAIL_ID",
          "LINE_OF_ACTIVITY",
          "OBLIGATIONS",
          "SZ_CERSAI_SEC_INT_ID",
          "C_RESTRUCTURE_YN",
          "DT_CERSAI",
          "ID_PROOF_REF",
          "EXISTING_CUSTOMER",
          "SZ_BRANCH_CODE_1",
          "RISK_CATEGORY_CODE",
          "END_USE",
          "OWNING_A_BUSINESS_PREMISE",
          "EMPLOYMENT_TOTAL_EXPERIENCE",
          "DT_ACCOUNT_SINCE_1",
          "NO_OF_DEPENDENTS",
          "STAGE_OF_CONSTRUCTION_TECHVAL",
          "DT_INSTALLMENT_START_2",
          "ADDRESS_LINE_2",
          "C_USE_FOR_REPAYMENT_YN_1",
          "I_RESIDUAL_AGE",
          "AGE_OF_THE_PROPERTY",
          "RESIDUAL_AGE_OF_THE_PROPERTY",
          "I_ASSET_AGE",
          "CKYC_NUMBER",
          "INVESTMENT_AMOUNT",
          "SELF_EMPLOYMENT_TOTAL_EXPERIENCE",
          "FOIR_WO_INSURANCE",
          "CUSTOMER_CASTE_CODE",
          "NETWORTH_CODE",
          "SOURCE_OF_INCOME",
          "INCOME",
          "PROPERTY_LOCAL_AUTHORITY",
          "OWNING_A_HOUSE",
          "LAND_CONVERSION",
          "APPLICATION_NUMBER",
          "MOB",
          "TOP_UP_YN",
          "SZ_BRANCH_NAME_1",
          "SZ_ACC_HOLDER_NAME_1",
          "SZ_ADD_PROF",
          "SZ_ACCOUNT_TYPE_1",
          "SZ_ACCOUNT_NO_1",
          "SZ_BANK_NAME_1",
          "MOTHER_NAME",
          "OVERDUE_INTEREST",
          "OVERDUE_PRINCIPLE",
          "MONTH_END_POS",
          "NATURE_OF_BUSINESS",
          "FOIR",
          "FIXED_OBLIGATION_TO_INCOME_RATIO",
          "EMI",
          "EMI_LMS",
          "EMI_CYCLE_DATE",
          "LOCATION_OF_THE_PROPERTY_OFFERED",
          "LAST_NAME",
          "EMP_ADDRESS_2",
          "NEXT_DUE_DATE",
          "DESIGNATION",
          "EXPERIENCE",
          "PROPERTY_ADDRESS_2",
          "MARKET_VALUE",
          "PROPERTY_MARKET_VALUE",
          "BUSINESS_NAME",
          "EMPLOYER_NAME",
          "PROPERTY_SUB_TYPE",
          "TALUKA",
          "EMP_ADDRESS_1",
          "EMP_PINCODE",
          "LOCAL_AUTHORITY_AS_IN_INDUS",
          "EMP_STATE",
          "EMP_CITY",
          "LTV",
          "LOAN_TO_VALUE_RATIO",
          "PROPERTY_OCCUPATION",
          "COLLATERAL_PINCODE",
          "COLLATERAL_CITY",
          "COLLATERAL_STATE",
          "COLLATERAL_TYPE",
          "NATURE_OF_SECURITY",
          "PROPERTY_ADDRESS_1",
          "PROPERTY_TYPE",
          "PROPERTY_COUNT",
          "PROPERTY_ADDRESS",
          "SZ_PRIMARY_OCCUPATION",
          "END_USE_LOAN_DESCRIPTION",
          "AADHAAR_NUMBER",
          "RES_PROOF_REF",
          "CONSUMER_CIBIL_SCORE",
          "MAIN_APPLICANT_SCORE",
          "AADHAR_APPLICANT",
          "LOGIN_DATE",
          "CUSTOMER_COMMUNITY_CODE",
          "RATE_OF_INTEREST",
          "MARITAL_STATUS",
          "NO_OF_COBORROWERS",
          "FATHER_NAME",
          "ACADEMIC_QUALIFICATION",
          "SZ_RELIGION_DESC",
          "PAN_NUMBER",
          "SZ_ID2",
          "PAN_APPLICANT",
          "SZ_APPRSL_SCHM",
          "TENURE",
          "INCOME_PROGRAM",
          "BANKING_VINTAGE",
          "SALARIED_SENP",
          "FINAL_SANCTION_DATE",
          "AGE",
          "CUSTOMER_SALARY_TYPE",
          "CUSTOMER_TITLE_CODE",
          "C_INCM_CONSID",
          "SZ_RESI_STATUS",
          "MOBILE_NUMBER",
          "CUSTOMER_NUMBER",
          "SANCTION_LOAN_AMOUNT",
          "LOAN_PURPOSE_DESCRIPTION",
          "LOAN_AMOUNT_WITH_INSURANCE",
          "ADDRESS_CITY_CODE",
          "ADDRESS_STATE_CODE"
         ],
         "yaxis": "y"
        }
       ],
       "layout": {
        "barmode": "relative",
        "legend": {
         "title": {
          "text": "variable"
         },
         "tracegroupgap": 0
        },
        "template": {
         "data": {
          "bar": [
           {
            "error_x": {
             "color": "#2a3f5f"
            },
            "error_y": {
             "color": "#2a3f5f"
            },
            "marker": {
             "line": {
              "color": "#E5ECF6",
              "width": 0.5
             },
             "pattern": {
              "fillmode": "overlay",
              "size": 10,
              "solidity": 0.2
             }
            },
            "type": "bar"
           }
          ],
          "barpolar": [
           {
            "marker": {
             "line": {
              "color": "#E5ECF6",
              "width": 0.5
             },
             "pattern": {
              "fillmode": "overlay",
              "size": 10,
              "solidity": 0.2
             }
            },
            "type": "barpolar"
           }
          ],
          "carpet": [
           {
            "aaxis": {
             "endlinecolor": "#2a3f5f",
             "gridcolor": "white",
             "linecolor": "white",
             "minorgridcolor": "white",
             "startlinecolor": "#2a3f5f"
            },
            "baxis": {
             "endlinecolor": "#2a3f5f",
             "gridcolor": "white",
             "linecolor": "white",
             "minorgridcolor": "white",
             "startlinecolor": "#2a3f5f"
            },
            "type": "carpet"
           }
          ],
          "choropleth": [
           {
            "colorbar": {
             "outlinewidth": 0,
             "ticks": ""
            },
            "type": "choropleth"
           }
          ],
          "contour": [
           {
            "colorbar": {
             "outlinewidth": 0,
             "ticks": ""
            },
            "colorscale": [
             [
              0,
              "#0d0887"
             ],
             [
              0.1111111111111111,
              "#46039f"
             ],
             [
              0.2222222222222222,
              "#7201a8"
             ],
             [
              0.3333333333333333,
              "#9c179e"
             ],
             [
              0.4444444444444444,
              "#bd3786"
             ],
             [
              0.5555555555555556,
              "#d8576b"
             ],
             [
              0.6666666666666666,
              "#ed7953"
             ],
             [
              0.7777777777777778,
              "#fb9f3a"
             ],
             [
              0.8888888888888888,
              "#fdca26"
             ],
             [
              1,
              "#f0f921"
             ]
            ],
            "type": "contour"
           }
          ],
          "contourcarpet": [
           {
            "colorbar": {
             "outlinewidth": 0,
             "ticks": ""
            },
            "type": "contourcarpet"
           }
          ],
          "heatmap": [
           {
            "colorbar": {
             "outlinewidth": 0,
             "ticks": ""
            },
            "colorscale": [
             [
              0,
              "#0d0887"
             ],
             [
              0.1111111111111111,
              "#46039f"
             ],
             [
              0.2222222222222222,
              "#7201a8"
             ],
             [
              0.3333333333333333,
              "#9c179e"
             ],
             [
              0.4444444444444444,
              "#bd3786"
             ],
             [
              0.5555555555555556,
              "#d8576b"
             ],
             [
              0.6666666666666666,
              "#ed7953"
             ],
             [
              0.7777777777777778,
              "#fb9f3a"
             ],
             [
              0.8888888888888888,
              "#fdca26"
             ],
             [
              1,
              "#f0f921"
             ]
            ],
            "type": "heatmap"
           }
          ],
          "histogram": [
           {
            "marker": {
             "pattern": {
              "fillmode": "overlay",
              "size": 10,
              "solidity": 0.2
             }
            },
            "type": "histogram"
           }
          ],
          "histogram2d": [
           {
            "colorbar": {
             "outlinewidth": 0,
             "ticks": ""
            },
            "colorscale": [
             [
              0,
              "#0d0887"
             ],
             [
              0.1111111111111111,
              "#46039f"
             ],
             [
              0.2222222222222222,
              "#7201a8"
             ],
             [
              0.3333333333333333,
              "#9c179e"
             ],
             [
              0.4444444444444444,
              "#bd3786"
             ],
             [
              0.5555555555555556,
              "#d8576b"
             ],
             [
              0.6666666666666666,
              "#ed7953"
             ],
             [
              0.7777777777777778,
              "#fb9f3a"
             ],
             [
              0.8888888888888888,
              "#fdca26"
             ],
             [
              1,
              "#f0f921"
             ]
            ],
            "type": "histogram2d"
           }
          ],
          "histogram2dcontour": [
           {
            "colorbar": {
             "outlinewidth": 0,
             "ticks": ""
            },
            "colorscale": [
             [
              0,
              "#0d0887"
             ],
             [
              0.1111111111111111,
              "#46039f"
             ],
             [
              0.2222222222222222,
              "#7201a8"
             ],
             [
              0.3333333333333333,
              "#9c179e"
             ],
             [
              0.4444444444444444,
              "#bd3786"
             ],
             [
              0.5555555555555556,
              "#d8576b"
             ],
             [
              0.6666666666666666,
              "#ed7953"
             ],
             [
              0.7777777777777778,
              "#fb9f3a"
             ],
             [
              0.8888888888888888,
              "#fdca26"
             ],
             [
              1,
              "#f0f921"
             ]
            ],
            "type": "histogram2dcontour"
           }
          ],
          "mesh3d": [
           {
            "colorbar": {
             "outlinewidth": 0,
             "ticks": ""
            },
            "type": "mesh3d"
           }
          ],
          "parcoords": [
           {
            "line": {
             "colorbar": {
              "outlinewidth": 0,
              "ticks": ""
             }
            },
            "type": "parcoords"
           }
          ],
          "pie": [
           {
            "automargin": true,
            "type": "pie"
           }
          ],
          "scatter": [
           {
            "fillpattern": {
             "fillmode": "overlay",
             "size": 10,
             "solidity": 0.2
            },
            "type": "scatter"
           }
          ],
          "scatter3d": [
           {
            "line": {
             "colorbar": {
              "outlinewidth": 0,
              "ticks": ""
             }
            },
            "marker": {
             "colorbar": {
              "outlinewidth": 0,
              "ticks": ""
             }
            },
            "type": "scatter3d"
           }
          ],
          "scattercarpet": [
           {
            "marker": {
             "colorbar": {
              "outlinewidth": 0,
              "ticks": ""
             }
            },
            "type": "scattercarpet"
           }
          ],
          "scattergeo": [
           {
            "marker": {
             "colorbar": {
              "outlinewidth": 0,
              "ticks": ""
             }
            },
            "type": "scattergeo"
           }
          ],
          "scattergl": [
           {
            "marker": {
             "colorbar": {
              "outlinewidth": 0,
              "ticks": ""
             }
            },
            "type": "scattergl"
           }
          ],
          "scattermap": [
           {
            "marker": {
             "colorbar": {
              "outlinewidth": 0,
              "ticks": ""
             }
            },
            "type": "scattermap"
           }
          ],
          "scattermapbox": [
           {
            "marker": {
             "colorbar": {
              "outlinewidth": 0,
              "ticks": ""
             }
            },
            "type": "scattermapbox"
           }
          ],
          "scatterpolar": [
           {
            "marker": {
             "colorbar": {
              "outlinewidth": 0,
              "ticks": ""
             }
            },
            "type": "scatterpolar"
           }
          ],
          "scatterpolargl": [
           {
            "marker": {
             "colorbar": {
              "outlinewidth": 0,
              "ticks": ""
             }
            },
            "type": "scatterpolargl"
           }
          ],
          "scatterternary": [
           {
            "marker": {
             "colorbar": {
              "outlinewidth": 0,
              "ticks": ""
             }
            },
            "type": "scatterternary"
           }
          ],
          "surface": [
           {
            "colorbar": {
             "outlinewidth": 0,
             "ticks": ""
            },
            "colorscale": [
             [
              0,
              "#0d0887"
             ],
             [
              0.1111111111111111,
              "#46039f"
             ],
             [
              0.2222222222222222,
              "#7201a8"
             ],
             [
              0.3333333333333333,
              "#9c179e"
             ],
             [
              0.4444444444444444,
              "#bd3786"
             ],
             [
              0.5555555555555556,
              "#d8576b"
             ],
             [
              0.6666666666666666,
              "#ed7953"
             ],
             [
              0.7777777777777778,
              "#fb9f3a"
             ],
             [
              0.8888888888888888,
              "#fdca26"
             ],
             [
              1,
              "#f0f921"
             ]
            ],
            "type": "surface"
           }
          ],
          "table": [
           {
            "cells": {
             "fill": {
              "color": "#EBF0F8"
             },
             "line": {
              "color": "white"
             }
            },
            "header": {
             "fill": {
              "color": "#C8D4E3"
             },
             "line": {
              "color": "white"
             }
            },
            "type": "table"
           }
          ]
         },
         "layout": {
          "annotationdefaults": {
           "arrowcolor": "#2a3f5f",
           "arrowhead": 0,
           "arrowwidth": 1
          },
          "autotypenumbers": "strict",
          "coloraxis": {
           "colorbar": {
            "outlinewidth": 0,
            "ticks": ""
           }
          },
          "colorscale": {
           "diverging": [
            [
             0,
             "#8e0152"
            ],
            [
             0.1,
             "#c51b7d"
            ],
            [
             0.2,
             "#de77ae"
            ],
            [
             0.3,
             "#f1b6da"
            ],
            [
             0.4,
             "#fde0ef"
            ],
            [
             0.5,
             "#f7f7f7"
            ],
            [
             0.6,
             "#e6f5d0"
            ],
            [
             0.7,
             "#b8e186"
            ],
            [
             0.8,
             "#7fbc41"
            ],
            [
             0.9,
             "#4d9221"
            ],
            [
             1,
             "#276419"
            ]
           ],
           "sequential": [
            [
             0,
             "#0d0887"
            ],
            [
             0.1111111111111111,
             "#46039f"
            ],
            [
             0.2222222222222222,
             "#7201a8"
            ],
            [
             0.3333333333333333,
             "#9c179e"
            ],
            [
             0.4444444444444444,
             "#bd3786"
            ],
            [
             0.5555555555555556,
             "#d8576b"
            ],
            [
             0.6666666666666666,
             "#ed7953"
            ],
            [
             0.7777777777777778,
             "#fb9f3a"
            ],
            [
             0.8888888888888888,
             "#fdca26"
            ],
            [
             1,
             "#f0f921"
            ]
           ],
           "sequentialminus": [
            [
             0,
             "#0d0887"
            ],
            [
             0.1111111111111111,
             "#46039f"
            ],
            [
             0.2222222222222222,
             "#7201a8"
            ],
            [
             0.3333333333333333,
             "#9c179e"
            ],
            [
             0.4444444444444444,
             "#bd3786"
            ],
            [
             0.5555555555555556,
             "#d8576b"
            ],
            [
             0.6666666666666666,
             "#ed7953"
            ],
            [
             0.7777777777777778,
             "#fb9f3a"
            ],
            [
             0.8888888888888888,
             "#fdca26"
            ],
            [
             1,
             "#f0f921"
            ]
           ]
          },
          "colorway": [
           "#636efa",
           "#EF553B",
           "#00cc96",
           "#ab63fa",
           "#FFA15A",
           "#19d3f3",
           "#FF6692",
           "#B6E880",
           "#FF97FF",
           "#FECB52"
          ],
          "font": {
           "color": "#2a3f5f"
          },
          "geo": {
           "bgcolor": "white",
           "lakecolor": "white",
           "landcolor": "#E5ECF6",
           "showlakes": true,
           "showland": true,
           "subunitcolor": "white"
          },
          "hoverlabel": {
           "align": "left"
          },
          "hovermode": "closest",
          "mapbox": {
           "style": "light"
          },
          "paper_bgcolor": "white",
          "plot_bgcolor": "#E5ECF6",
          "polar": {
           "angularaxis": {
            "gridcolor": "white",
            "linecolor": "white",
            "ticks": ""
           },
           "bgcolor": "#E5ECF6",
           "radialaxis": {
            "gridcolor": "white",
            "linecolor": "white",
            "ticks": ""
           }
          },
          "scene": {
           "xaxis": {
            "backgroundcolor": "#E5ECF6",
            "gridcolor": "white",
            "gridwidth": 2,
            "linecolor": "white",
            "showbackground": true,
            "ticks": "",
            "zerolinecolor": "white"
           },
           "yaxis": {
            "backgroundcolor": "#E5ECF6",
            "gridcolor": "white",
            "gridwidth": 2,
            "linecolor": "white",
            "showbackground": true,
            "ticks": "",
            "zerolinecolor": "white"
           },
           "zaxis": {
            "backgroundcolor": "#E5ECF6",
            "gridcolor": "white",
            "gridwidth": 2,
            "linecolor": "white",
            "showbackground": true,
            "ticks": "",
            "zerolinecolor": "white"
           }
          },
          "shapedefaults": {
           "line": {
            "color": "#2a3f5f"
           }
          },
          "ternary": {
           "aaxis": {
            "gridcolor": "white",
            "linecolor": "white",
            "ticks": ""
           },
           "baxis": {
            "gridcolor": "white",
            "linecolor": "white",
            "ticks": ""
           },
           "bgcolor": "#E5ECF6",
           "caxis": {
            "gridcolor": "white",
            "linecolor": "white",
            "ticks": ""
           }
          },
          "title": {
           "x": 0.05
          },
          "xaxis": {
           "automargin": true,
           "gridcolor": "white",
           "linecolor": "white",
           "ticks": "",
           "title": {
            "standoff": 15
           },
           "zerolinecolor": "white",
           "zerolinewidth": 2
          },
          "yaxis": {
           "automargin": true,
           "gridcolor": "white",
           "linecolor": "white",
           "ticks": "",
           "title": {
            "standoff": 15
           },
           "zerolinecolor": "white",
           "zerolinewidth": 2
          }
         }
        },
        "title": {
         "text": "Missing Values per Column"
        },
        "xaxis": {
         "anchor": "y",
         "domain": [
          0,
          1
         ],
         "title": {
          "text": "value"
         }
        },
        "yaxis": {
         "anchor": "x",
         "domain": [
          0,
          1
         ],
         "title": {
          "text": "index"
         }
        }
       }
      }
     },
     "metadata": {},
     "output_type": "display_data"
    }
   ],
   "source": [
    "missing = df.isnull().sum().sort_values(ascending=False)\n",
    "missing = missing[missing > 0]\n",
    "fig_missing = px.bar(missing, orientation='h', title='Missing Values per Column')\n",
    "fig_missing.show()"
   ]
  },
  {
   "cell_type": "markdown",
   "id": "9ddc967f",
   "metadata": {},
   "source": [
    "## 3. Numeric Feature Distributions"
   ]
  },
  {
   "cell_type": "code",
   "execution_count": null,
   "id": "2df2d5de",
   "metadata": {},
   "outputs": [],
   "source": [
    "numeric_cols = df.select_dtypes(include=np.number).columns.tolist()\n",
    "figs_numeric = []\n",
    "for col in numeric_cols[:10]:  # Limit to first 10 for brevity\n",
    "    fig = px.histogram(df, x=col, nbins=50, title=f'Distribution of {col}')\n",
    "    fig.show()\n",
    "    figs_numeric.append((col, fig))"
   ]
  },
  {
   "cell_type": "markdown",
   "id": "f23b32c8",
   "metadata": {},
   "source": [
    "## 4. Categorical Feature Analysis"
   ]
  },
  {
   "cell_type": "code",
   "execution_count": null,
   "id": "6ce16ab8",
   "metadata": {},
   "outputs": [],
   "source": [
    "cat_cols = df.select_dtypes(include='object').columns.tolist()\n",
    "figs_cat = []\n",
    "for col in cat_cols[:10]:  # Limit to first 10 for brevity\n",
    "    vc = df[col].value_counts().nlargest(20)\n",
    "    fig = px.bar(x=vc.index, y=vc.values, title=f'Top 20 Values of {col}', labels={'x': col, 'y': 'Count'})\n",
    "    fig.show()\n",
    "    figs_cat.append((col, fig))"
   ]
  },
  {
   "cell_type": "markdown",
   "id": "681c15b0",
   "metadata": {},
   "source": [
    "## 5. Correlation Analysis (Numeric Features)"
   ]
  },
  {
   "cell_type": "code",
   "execution_count": null,
   "id": "f76d7068",
   "metadata": {},
   "outputs": [],
   "source": [
    "if len(numeric_cols) > 1:\n",
    "    corr = df[numeric_cols].corr()\n",
    "    fig_corr = px.imshow(corr, text_auto=True, title='Correlation Matrix (Numeric Features)')\n",
    "    fig_corr.show()\n",
    "else:\n",
    "    fig_corr = None"
   ]
  },
  {
   "cell_type": "markdown",
   "id": "f65823cf",
   "metadata": {},
   "source": [
    "## 6. Outlier Detection (Boxplots)"
   ]
  },
  {
   "cell_type": "code",
   "execution_count": null,
   "id": "d864e731",
   "metadata": {},
   "outputs": [],
   "source": [
    "figs_box = []\n",
    "for col in numeric_cols[:10]:  # Limit to first 10 for brevity\n",
    "    fig = px.box(df, y=col, title=f'Boxplot of {col}')\n",
    "    fig.show()\n",
    "    figs_box.append((col, fig))"
   ]
  },
  {
   "cell_type": "markdown",
   "id": "b9c4edd9",
   "metadata": {},
   "source": [
    "## 7. Pairwise Relationships (Scatter Matrix)"
   ]
  },
  {
   "cell_type": "code",
   "execution_count": null,
   "id": "d9b2f7ab",
   "metadata": {},
   "outputs": [],
   "source": [
    "if len(numeric_cols) >= 2:\n",
    "    fig_scatter_matrix = px.scatter_matrix(df, dimensions=numeric_cols[:5], title='Scatter Matrix (First 5 Numeric Features)')\n",
    "    fig_scatter_matrix.show()\n",
    "else:\n",
    "    fig_scatter_matrix = None"
   ]
  },
  {
   "cell_type": "markdown",
   "id": "9cf3bffc",
   "metadata": {},
   "source": [
    "## 8. Save All EDA Graphs to a Single HTML Report"
   ]
  },
  {
   "cell_type": "code",
   "execution_count": null,
   "id": "71fda672",
   "metadata": {},
   "outputs": [],
   "source": [
    "eda_html = []\n",
    "eda_html.append('<h1>EDA Report for test.csv</h1>')\n",
    "eda_html.append('<h2>Missing Values</h2>')\n",
    "eda_html.append(fig_missing.to_html(full_html=False, include_plotlyjs='cdn'))\n",
    "eda_html.append('<h2>Numeric Feature Distributions</h2>')\n",
    "for col, fig in figs_numeric:\n",
    "    eda_html.append(f'<h3>Distribution of {col}</h3>')\n",
    "    eda_html.append(fig.to_html(full_html=False, include_plotlyjs=False))\n",
    "eda_html.append('<h2>Categorical Feature Analysis</h2>')\n",
    "for col, fig in figs_cat:\n",
    "    eda_html.append(f'<h3>Top 20 Values of {col}</h3>')\n",
    "    eda_html.append(fig.to_html(full_html=False, include_plotlyjs=False))\n",
    "if fig_corr is not None:\n",
    "    eda_html.append('<h2>Correlation Matrix</h2>')\n",
    "    eda_html.append(fig_corr.to_html(full_html=False, include_plotlyjs=False))\n",
    "eda_html.append('<h2>Outlier Detection (Boxplots)</h2>')\n",
    "for col, fig in figs_box:\n",
    "    eda_html.append(f'<h3>Boxplot of {col}</h3>')\n",
    "    eda_html.append(fig.to_html(full_html=False, include_plotlyjs=False))\n",
    "if fig_scatter_matrix is not None:\n",
    "    eda_html.append('<h2>Scatter Matrix</h2>')\n",
    "    eda_html.append(fig_scatter_matrix.to_html(full_html=False, include_plotlyjs=False))\n",
    "\n",
    "with open('EDA_test_csv_report.html', 'w', encoding='utf-8') as f:\n",
    "    f.write('\\n'.join(eda_html))\n",
    "print('EDA HTML report saved as EDA_test_csv_report.html')"
   ]
  }
 ],
 "metadata": {
  "kernelspec": {
   "display_name": "venv",
   "language": "python",
   "name": "python3"
  },
  "language_info": {
   "codemirror_mode": {
    "name": "ipython",
    "version": 3
   },
   "file_extension": ".py",
   "mimetype": "text/x-python",
   "name": "python",
   "nbconvert_exporter": "python",
   "pygments_lexer": "ipython3",
   "version": "3.13.2"
  }
 },
 "nbformat": 4,
 "nbformat_minor": 5
}
